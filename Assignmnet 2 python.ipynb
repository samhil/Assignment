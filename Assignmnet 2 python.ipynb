{
 "cells": [
  {
   "cell_type": "markdown",
   "metadata": {},
   "source": [
    "Assignment Two"
   ]
  },
  {
   "cell_type": "markdown",
   "metadata": {},
   "source": [
    "Write a Python Program to implement your own myreduce() function which works exactly like\n",
    "Python's built-in function reduce()"
   ]
  },
  {
   "cell_type": "code",
   "execution_count": 9,
   "metadata": {},
   "outputs": [],
   "source": [
    "def myreduce(fun,lst):\n",
    "    ind = lst[0]# set starting index\n",
    "    for i in lst[1::]: # start loop from second element till last element\n",
    "        ind=fun(ind,i)\n",
    "    return ind  \n",
    "def addition(a,b):\n",
    "    \"\"\"sample addition function to test myreduce()\"\"\"\n",
    "    x=a+b\n",
    "    return x\n",
    "def minus(a,b):\n",
    "    \"\"\"sample substraction function to test myreduce()\"\"\"\n",
    "    x=a-b\n",
    "    return x\n",
    "def multiply(a,b):\n",
    "    \"\"\"\"Sample multiplication fuction to test myreduce()\"\"\"\n",
    "    x=a*b\n",
    "    return x"
   ]
  },
  {
   "cell_type": "code",
   "execution_count": 10,
   "metadata": {},
   "outputs": [
    {
     "name": "stdout",
     "output_type": "stream",
     "text": [
      "12\n"
     ]
    }
   ],
   "source": [
    "lstrdc =[1,2,3,2,4] #list for myreduce()\n",
    "print(myreduce(addition,lstrdc))"
   ]
  },
  {
   "cell_type": "markdown",
   "metadata": {},
   "source": [
    "Write a Python program to implement your own myfilter() function which works exactly like\n",
    "Python's built-in function filter()"
   ]
  },
  {
   "cell_type": "code",
   "execution_count": 11,
   "metadata": {},
   "outputs": [],
   "source": [
    "def myfilter(fun,seq):\n",
    "    ''' Works like filter() in python'''\n",
    "    x=[]\n",
    "    for i in seq[0::]:\n",
    "        if fun(i)== True:\n",
    "            x.append(i)\n",
    "    return(\"the result is \",x)"
   ]
  },
  {
   "cell_type": "code",
   "execution_count": 12,
   "metadata": {},
   "outputs": [],
   "source": [
    "def even(num='0'):# function to check myfilter()\n",
    "    if num % 2 ==0:\n",
    "        return True\n",
    "    else:\n",
    "        return False\n",
    "oddlst = [1,2.5,-2,3,4,5,6,7,8,9,0,11,10,20002]"
   ]
  },
  {
   "cell_type": "code",
   "execution_count": 13,
   "metadata": {},
   "outputs": [
    {
     "data": {
      "text/plain": [
       "('the result is ', [-2, 4, 6, 8, 0, 10, 20002])"
      ]
     },
     "execution_count": 13,
     "metadata": {},
     "output_type": "execute_result"
    }
   ],
   "source": [
    "myfilter(even,oddlst)"
   ]
  },
  {
   "cell_type": "code",
   "execution_count": 14,
   "metadata": {},
   "outputs": [],
   "source": [
    "def vowel(alp):# function to check myfilter()\n",
    "    vowel = ['a','e','i','o','u']\n",
    "    alp=alp.lower()\n",
    "    for i in vowel:\n",
    "        if alp == i:\n",
    "            return True  \n",
    "alph=[\"a\",\"s\",\"d\",\"f\",\"g\",\"h\",\"j\",\"k\",\"l\",\"i\",\"u\",\"y\",\"t\",\"r\",\"e\",\"w\",\"q\",\"z\",\"x\",\"c\",\"v\",\"b\",\"n\"]\n",
    "alpha2=['s','a','m','i','r']"
   ]
  },
  {
   "cell_type": "markdown",
   "metadata": {},
   "source": [
    "Implement List comprehensions to produce the following lists.\n",
    "Write List comprehensions to produce the following Lists\n",
    "['A', 'C', 'A', 'D', 'G', 'I', ’L’, ‘ D’]\n",
    "['x', 'xx', 'xxx', 'xxxx', 'y', 'yy', 'yyy', 'yyyy', 'z', 'zz', 'zzz', 'zzzz']\n",
    "['x', 'y', 'z', 'xx', 'yy', 'zz', 'xx', 'yy', 'zz', 'xxxx', 'yyyy', 'zzzz']\n",
    "[[2], [3], [4], [3], [4], [5], [4], [5], [6]]\n",
    "[[2, 3, 4, 5], [3, 4, 5, 6], [4, 5, 6, 7], [5, 6, 7, 8]]\n",
    "[(1, 1), (2, 1), (3, 1), (1, 2), (2, 2), (3, 2), (1, 3), (2, 3), (3, 3)]"
   ]
  },
  {
   "cell_type": "code",
   "execution_count": 15,
   "metadata": {},
   "outputs": [
    {
     "name": "stdout",
     "output_type": "stream",
     "text": [
      "['A', 'C', 'A', 'D', 'G', 'I', 'L', 'D']\n"
     ]
    }
   ],
   "source": [
    "word=\"ACADGILD\"\n",
    "lst1=[n for n in word]\n",
    "print(lst1)"
   ]
  },
  {
   "cell_type": "code",
   "execution_count": 16,
   "metadata": {},
   "outputs": [
    {
     "name": "stdout",
     "output_type": "stream",
     "text": [
      "['x', 'xx', 'xxx', 'xxxx', 'y', 'yy', 'yyy', 'yyyy', 'z', 'zz', 'zzz', 'zzzz']\n"
     ]
    }
   ],
   "source": [
    "word2=\"xyz\"\n",
    "lst2 = [i*j for i in word2 for j in range(1,5)]\n",
    "print(lst2)"
   ]
  },
  {
   "cell_type": "code",
   "execution_count": 17,
   "metadata": {},
   "outputs": [
    {
     "name": "stdout",
     "output_type": "stream",
     "text": [
      "['x', 'y', 'z', 'xx', 'yy', 'zz', 'xxx', 'yyy', 'zzz', 'xxxx', 'yyyy', 'zzzz']\n"
     ]
    }
   ],
   "source": [
    "lst3 = [i*j for j in range(1,5) for i in word2]\n",
    "print(lst3)"
   ]
  },
  {
   "cell_type": "code",
   "execution_count": 18,
   "metadata": {},
   "outputs": [
    {
     "name": "stdout",
     "output_type": "stream",
     "text": [
      "[[2], [3], [4], [3], [4], [5], [4], [5], [6]]\n"
     ]
    }
   ],
   "source": [
    "num1 = [2,3,4]\n",
    "lst4 = [[i+j] for i in num1 for j in range(3)]\n",
    "print(lst4)"
   ]
  },
  {
   "cell_type": "code",
   "execution_count": 19,
   "metadata": {},
   "outputs": [
    {
     "name": "stdout",
     "output_type": "stream",
     "text": [
      "[[2, 3, 4, 5], [3, 4, 5, 6], [4, 5, 6, 7], [5, 6, 7, 8]]\n"
     ]
    }
   ],
   "source": [
    "num2 = [2,3,4,5]\n",
    "lst5 = [[i+j for i in num2] for j in range(4)]\n",
    "print(lst5)"
   ]
  },
  {
   "cell_type": "code",
   "execution_count": 6,
   "metadata": {},
   "outputs": [
    {
     "name": "stdout",
     "output_type": "stream",
     "text": [
      "[(1, 1), (2, 1), (3, 1), (1, 2), (2, 2), (3, 2), (1, 3), (2, 3), (3, 3)]\n"
     ]
    }
   ],
   "source": [
    "num3 = [1,2,3]\n",
    "lst6 = [(j,i) for i in num3 for j in num3]\n",
    "print(lst6)"
   ]
  },
  {
   "cell_type": "markdown",
   "metadata": {},
   "source": [
    "Implement a function longestWord() that takes a list of words and returns the longest one"
   ]
  },
  {
   "cell_type": "code",
   "execution_count": 20,
   "metadata": {},
   "outputs": [],
   "source": [
    "def longestWord(words=[]):\n",
    "    ''' Get the words from the list and return the longest one'''\n",
    "    longword = len(max(words,key=len))\n",
    "    Lwords=[]\n",
    "    for i in words:\n",
    "        if len(i) == longword:\n",
    "            Lwords.append(i)\n",
    "    return Lwords"
   ]
  },
  {
   "cell_type": "code",
   "execution_count": 21,
   "metadata": {},
   "outputs": [
    {
     "data": {
      "text/plain": [
       "['OUATIHollywood']"
      ]
     },
     "execution_count": 21,
     "metadata": {},
     "output_type": "execute_result"
    }
   ],
   "source": [
    "wrds=['Movies','pulpFiction','killBill','Rdogs','OUATIHollywood']\n",
    "longestWord(wrds)"
   ]
  },
  {
   "cell_type": "markdown",
   "metadata": {},
   "source": [
    "Write a Python Program(with class concepts) to find the area of the triangle using the below\n",
    "formula. area = (s*(s-a)*(s-b)*(s-c)) ** 0.5\n",
    "Function to take the length of the sides of triangle from user should be defined in the parent\n",
    "class and function to calculate the area should be defined in subclass."
   ]
  },
  {
   "cell_type": "code",
   "execution_count": 22,
   "metadata": {},
   "outputs": [],
   "source": [
    "class Area:\n",
    "    ''' Get values from user to calculate the are of triangel'''\n",
    "    def __init__(self,side1=0,side2=0,side3=0):\n",
    "        self.side1 = side1\n",
    "        self.side2 = side2\n",
    "        self.side3 = side3\n",
    "class Areatri(Area):\n",
    "    ''' inherit the values from Area'''\n",
    "    def __init__(self,*args):\n",
    "        super(Areatri,self).__init__(*args)\n",
    "    def CalArea(self):\n",
    "        ''' Use the Values ingerited from Area and claculate the Area of triangle'''\n",
    "        s=(self.side1 + self.side2 + self.side3)/2\n",
    "        aot=(s*(s-self.side1)*(s-self.side2)*(s-self.side3)) **0.5\n",
    "        return print(\"Area fo the Triangle\",aot) \n",
    "        "
   ]
  },
  {
   "cell_type": "code",
   "execution_count": 23,
   "metadata": {},
   "outputs": [
    {
     "name": "stdout",
     "output_type": "stream",
     "text": [
      "Area fo the Triangle 21.706836955899398\n",
      "None\n"
     ]
    }
   ],
   "source": [
    "Rtri=Areatri(8.36,6.24,7.14)\n",
    "print(Rtri.CalArea())"
   ]
  },
  {
   "cell_type": "markdown",
   "metadata": {},
   "source": [
    "Write a function filter_long_words() that takes a list of words and an integer n and returns the list of words that are longer than n."
   ]
  },
  {
   "cell_type": "code",
   "execution_count": 24,
   "metadata": {},
   "outputs": [],
   "source": [
    "def filter_long_words(n,words=[]): \n",
    "    ''' Return the word fom a list which is grater than the given number'''\n",
    "    longwords=[]\n",
    "    for i in words:\n",
    "        if len(i) > n:\n",
    "            longwords.append(i)\n",
    "    return longwords"
   ]
  },
  {
   "cell_type": "code",
   "execution_count": 25,
   "metadata": {},
   "outputs": [
    {
     "data": {
      "text/plain": [
       "['pulpFiction', 'OUATIHollywood']"
      ]
     },
     "execution_count": 25,
     "metadata": {},
     "output_type": "execute_result"
    }
   ],
   "source": [
    "wrds=['Movies','pulpFiction','killBill','Rdogs','OUATIHollywood']\n",
    "filter_long_words(9,wrds)"
   ]
  },
  {
   "cell_type": "markdown",
   "metadata": {},
   "source": [
    "Write a Python program using function concept that maps list of words into a list of integers\n",
    "representing the lengths of the corresponding words .\n",
    "Hint: If a list [ ab,cde,erty] is passed on to the python function output should come as [2,3,4]\n",
    "Here 2,3 and 4 are the lengths of the words in the list."
   ]
  },
  {
   "cell_type": "code",
   "execution_count": 26,
   "metadata": {},
   "outputs": [],
   "source": [
    "def word_Len(lst):\n",
    "    ''' return the number of characters in a word list'''\n",
    "    x=[]\n",
    "    for i in lst:\n",
    "        x.append(len(i))\n",
    "    return(x)  "
   ]
  },
  {
   "cell_type": "code",
   "execution_count": 27,
   "metadata": {},
   "outputs": [
    {
     "data": {
      "text/plain": [
       "[6, 11, 8, 5, 7]"
      ]
     },
     "execution_count": 27,
     "metadata": {},
     "output_type": "execute_result"
    }
   ],
   "source": [
    "wrds=['Movies','pulpFiction','killBill','Rdogs','Abeauty']\n",
    "word_Len(wrds)"
   ]
  },
  {
   "cell_type": "markdown",
   "metadata": {},
   "source": [
    "Write a Python function which takes a character (i.e. a string of length 1) and returns True if it is\n",
    "a vowel, False otherwise."
   ]
  },
  {
   "cell_type": "code",
   "execution_count": 28,
   "metadata": {},
   "outputs": [],
   "source": [
    "def Vowel_Or_Not(str):\n",
    "    ''' Check given alphabet is vowel or not'''\n",
    "    Vowels=['a','e','i','o','u']\n",
    "    char=len(str)\n",
    "    casechr=str.lower()\n",
    "    if char > 1:\n",
    "        print(\"Please enter a single characters between a-z\")\n",
    "    elif casechr in Vowels:\n",
    "        print(\"True\")\n",
    "    else:\n",
    "        print(\"False\")"
   ]
  },
  {
   "cell_type": "code",
   "execution_count": 29,
   "metadata": {},
   "outputs": [
    {
     "name": "stdout",
     "output_type": "stream",
     "text": [
      "True\n"
     ]
    }
   ],
   "source": [
    "Vowel_Or_Not(\"i\")"
   ]
  },
  {
   "cell_type": "code",
   "execution_count": null,
   "metadata": {},
   "outputs": [],
   "source": []
  }
 ],
 "metadata": {
  "kernelspec": {
   "display_name": "Python 3",
   "language": "python",
   "name": "python3"
  },
  "language_info": {
   "codemirror_mode": {
    "name": "ipython",
    "version": 3
   },
   "file_extension": ".py",
   "mimetype": "text/x-python",
   "name": "python",
   "nbconvert_exporter": "python",
   "pygments_lexer": "ipython3",
   "version": "3.7.4"
  }
 },
 "nbformat": 4,
 "nbformat_minor": 2
}
