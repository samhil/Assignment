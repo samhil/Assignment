{
 "cells": [
  {
   "cell_type": "code",
   "execution_count": 1,
   "metadata": {},
   "outputs": [
    {
     "name": "stdout",
     "output_type": "stream",
     "text": [
      "20\n",
      "100\n"
     ]
    }
   ],
   "source": [
    "class A:\n",
    "    def __init__(self, operand1, operand2):\n",
    "        self.operand1=operand1\n",
    "        self.operand2=operand2\n",
    "    def myMath(self):\n",
    "        ans=self.operand1+self.operand2\n",
    "        return ans\n",
    "class B:\n",
    "    def __init__(self, operand1, operand2):\n",
    "        self.operand1=operand1\n",
    "        self.operand2=operand2\n",
    "    def myMath(self):\n",
    "        ans=self.operand1*self.operand2\n",
    "        return ans\n",
    "#class C(B,A):\n",
    "#    def __init__(self,*args):\n",
    "#        super(C,self).__init__(*args)\n",
    "    \n",
    "class C(A,B):\n",
    "    def __init__(self,operand1,operand2):\n",
    "        A.__init__(self,operand1,operand2)\n",
    "        B.__init__(self, operand1, operand2) \n",
    "    def myMathA(self):\n",
    "        return A.myMath(self)       \n",
    "    def myMathB(self):\n",
    "        return B.myMath(self)\n",
    "    \n",
    "numB=C(10,10)\n",
    "print(numB.myMathA())\n",
    "print(numB.myMathB())"
   ]
  },
  {
   "cell_type": "code",
   "execution_count": null,
   "metadata": {},
   "outputs": [],
   "source": []
  }
 ],
 "metadata": {
  "kernelspec": {
   "display_name": "Python 3",
   "language": "python",
   "name": "python3"
  },
  "language_info": {
   "codemirror_mode": {
    "name": "ipython",
    "version": 3
   },
   "file_extension": ".py",
   "mimetype": "text/x-python",
   "name": "python",
   "nbconvert_exporter": "python",
   "pygments_lexer": "ipython3",
   "version": "3.7.4"
  }
 },
 "nbformat": 4,
 "nbformat_minor": 2
}
